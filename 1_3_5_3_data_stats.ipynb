{
 "cells": [
  {
   "cell_type": "code",
   "execution_count": 2,
   "metadata": {},
   "outputs": [
    {
     "data": {
      "text/plain": [
       "<matplotlib.legend.Legend at 0x7f1198529908>"
      ]
     },
     "execution_count": 2,
     "metadata": {},
     "output_type": "execute_result"
    },
    {
     "data": {
      "image/png": "[encoded data removed]",
      "text/plain": [
       "<matplotlib.figure.Figure at 0x7f117316c0f0>"
      ]
     },
     "metadata": {},
     "output_type": "display_data"
    }
   ],
   "source": [
    "import numpy as np\n",
    "import matplotlib.pyplot as plt\n",
    "%matplotlib inline\n",
    "data = np.loadtxt('populations.txt')\n",
    "year, hares, lynxes, carrots = data.T\n",
    "plt.axes([0.2, 0.1, 0.5, 0.8])\n",
    "plt.plot(year, hares, year, lynxes, year, carrots)\n",
    "plt.legend(('Hare', 'Lynx', 'Carrot'), loc=(1.05, 0.5))"
   ]
  },
  {
   "cell_type": "code",
   "execution_count": 21,
   "metadata": {},
   "outputs": [
    {
     "data": {
      "text/plain": [
       "array([ 34080.95238095,  20166.66666667,  42400.        ])"
      ]
     },
     "execution_count": 21,
     "metadata": {},
     "output_type": "execute_result"
    }
   ],
   "source": [
    "np.mean(data[:,1:], axis=0)"
   ]
  },
  {
   "cell_type": "code",
   "execution_count": 22,
   "metadata": {},
   "outputs": [
    {
     "data": {
      "text/plain": [
       "array([ 20897.90645809,  16254.59153691,   3322.50622558])"
      ]
     },
     "execution_count": 22,
     "metadata": {},
     "output_type": "execute_result"
    }
   ],
   "source": [
    "np.std(data[:,1:], axis=0)"
   ]
  },
  {
   "cell_type": "code",
   "execution_count": 26,
   "metadata": {},
   "outputs": [
    {
     "data": {
      "text/plain": [
       "array([ 1903.,  1904.,  1900.])"
      ]
     },
     "execution_count": 26,
     "metadata": {},
     "output_type": "execute_result"
    }
   ],
   "source": [
    "data[:,0][np.argmax(data[:,1:], axis=0)]"
   ]
  },
  {
   "cell_type": "code",
   "execution_count": 39,
   "metadata": {
    "scrolled": true
   },
   "outputs": [
    {
     "data": {
      "text/plain": [
       "array([['1900.0', 'Carrot'],\n",
       "       ['1901.0', 'Carrot'],\n",
       "       ['1902.0', 'Hare'],\n",
       "       ['1903.0', 'Hare'],\n",
       "       ['1904.0', 'Lynx'],\n",
       "       ['1905.0', 'Lynx'],\n",
       "       ['1906.0', 'Carrot'],\n",
       "       ['1907.0', 'Carrot'],\n",
       "       ['1908.0', 'Carrot'],\n",
       "       ['1909.0', 'Carrot'],\n",
       "       ['1910.0', 'Carrot'],\n",
       "       ['1911.0', 'Carrot'],\n",
       "       ['1912.0', 'Hare'],\n",
       "       ['1913.0', 'Hare'],\n",
       "       ['1914.0', 'Hare'],\n",
       "       ['1915.0', 'Lynx'],\n",
       "       ['1916.0', 'Carrot'],\n",
       "       ['1917.0', 'Carrot'],\n",
       "       ['1918.0', 'Carrot'],\n",
       "       ['1919.0', 'Carrot'],\n",
       "       ['1920.0', 'Carrot']],\n",
       "      dtype='<U32')"
      ]
     },
     "execution_count": 39,
     "metadata": {},
     "output_type": "execute_result"
    }
   ],
   "source": [
    "np.hstack((np.reshape(data[:,0],(-1,1)),np.reshape(nameidx[np.argmax(data[:,1:], axis=1)],(-1,1))))"
   ]
  },
  {
   "cell_type": "code",
   "execution_count": 87,
   "metadata": {},
   "outputs": [
    {
     "data": {
      "text/plain": [
       "array([[50000, 50000, 50000],\n",
       "       [50000, 50000, 50000],\n",
       "       [50000, 50000, 50000],\n",
       "       [50000, 50000, 50000],\n",
       "       [50000, 50000, 50000],\n",
       "       [50000, 50000, 50000],\n",
       "       [50000, 50000, 50000],\n",
       "       [50000, 50000, 50000],\n",
       "       [50000, 50000, 50000],\n",
       "       [50000, 50000, 50000],\n",
       "       [50000, 50000, 50000],\n",
       "       [50000, 50000, 50000],\n",
       "       [50000, 50000, 50000],\n",
       "       [50000, 50000, 50000],\n",
       "       [50000, 50000, 50000],\n",
       "       [50000, 50000, 50000],\n",
       "       [50000, 50000, 50000],\n",
       "       [50000, 50000, 50000],\n",
       "       [50000, 50000, 50000],\n",
       "       [50000, 50000, 50000],\n",
       "       [50000, 50000, 50000]])"
      ]
     },
     "execution_count": 87,
     "metadata": {},
     "output_type": "execute_result"
    }
   ],
   "source": [
    "b=data[:,1:]\n",
    "a=np.full((21,3),50000)"
   ]
  },
  {
   "cell_type": "code",
   "execution_count": 89,
   "metadata": {},
   "outputs": [],
   "source": [
    "c=np.greater(b,a)"
   ]
  },
  {
   "cell_type": "code",
   "execution_count": 98,
   "metadata": {},
   "outputs": [
    {
     "data": {
      "text/plain": [
       "array([ 1902.,  1903.,  1904.,  1912.,  1913.,  1914.,  1915.])"
      ]
     },
     "execution_count": 98,
     "metadata": {},
     "output_type": "execute_result"
    }
   ],
   "source": [
    "#np.vstack((np.any(c,axis=1),data[:,0])).T\n",
    "data[:,0][np.any(c,axis=1)]"
   ]
  },
  {
   "cell_type": "code",
   "execution_count": 108,
   "metadata": {},
   "outputs": [
    {
     "data": {
      "text/plain": [
       "array([ 1900.,  1901.,  1903.,  1916.,  1917.])"
      ]
     },
     "execution_count": 108,
     "metadata": {},
     "output_type": "execute_result"
    }
   ],
   "source": [
    "np.unique(np.ravel(data[:,0][np.argsort(data[:,1:],axis=0)][0:2]))"
   ]
  },
  {
   "cell_type": "code",
   "execution_count": 110,
   "metadata": {},
   "outputs": [
    {
     "data": {
      "text/plain": [
       "[<matplotlib.lines.Line2D at 0x7f116ae5b518>]"
      ]
     },
     "execution_count": 110,
     "metadata": {},
     "output_type": "execute_result"
    },
    {
     "data": {
      "image/png": "[encoded data removed]",
      "text/plain": [
       "<matplotlib.figure.Figure at 0x7f1172e62668>"
      ]
     },
     "metadata": {},
     "output_type": "display_data"
    }
   ],
   "source": [
    "plt.plot(np.gradient(hares),lynxes,'o')"
   ]
  },
  {
   "cell_type": "code",
   "execution_count": 112,
   "metadata": {},
   "outputs": [
    {
     "data": {
      "text/plain": [
       "-0.91792484803153407"
      ]
     },
     "execution_count": 112,
     "metadata": {},
     "output_type": "execute_result"
    }
   ],
   "source": [
    "np.corrcoef(np.gradient(hares),lynxes)[0,1]"
   ]
  },
  {
   "cell_type": "raw",
   "metadata": {},
   "source": []
  }
 ],
 "metadata": {
  "kernelspec": {
   "display_name": "Python 3",
   "language": "python",
   "name": "python3"
  },
  "language_info": {
   "codemirror_mode": {
    "name": "ipython",
    "version": 3
   },
   "file_extension": ".py",
   "mimetype": "text/x-python",
   "name": "python",
   "nbconvert_exporter": "python",
   "pygments_lexer": "ipython3",
   "version": "3.6.2"
  }
 },
 "nbformat": 4,
 "nbformat_minor": 2
}
