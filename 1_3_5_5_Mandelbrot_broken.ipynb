{
 "cells": [
  {
   "cell_type": "code",
   "execution_count": 10,
   "metadata": {},
   "outputs": [],
   "source": [
    "import numpy as np\n",
    "import matplotlib.pyplot as plt\n",
    "x=np.ogrid[-2:1:50]\n",
    "y=np.ogrid[-1.5:1.5:50j]\n",
    "XX,YY=np.meshgrid(x,y)\n",
    "c=XX+YY\n",
    "N_max=10\n",
    "some_threshold=50\n",
    "z=0\n",
    "for j in range(N_max):\n",
    "    z=z**2+c\n",
    "mask=(np.abs(z)<some_threshold)\n",
    "plt.imshow(mask.T,extent=[-2,1,-1.5,1.5])\n",
    "plt.gray()\n",
    "plt.savefig('mandelbrot.png')\n"
   ]
  }
 ],
 "metadata": {
  "kernelspec": {
   "display_name": "Python 3",
   "language": "python",
   "name": "python3"
  },
  "language_info": {
   "codemirror_mode": {
    "name": "ipython",
    "version": 3
   },
   "file_extension": ".py",
   "mimetype": "text/x-python",
   "name": "python",
   "nbconvert_exporter": "python",
   "pygments_lexer": "ipython3",
   "version": "3.6.2"
  }
 },
 "nbformat": 4,
 "nbformat_minor": 2
}
