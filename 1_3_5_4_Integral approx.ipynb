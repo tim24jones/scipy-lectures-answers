{
 "cells": [
  {
   "cell_type": "code",
   "execution_count": 39,
   "metadata": {},
   "outputs": [
    {
     "data": {
      "text/plain": [
       "(24, 6, 12)"
      ]
     },
     "execution_count": 39,
     "metadata": {},
     "output_type": "execute_result"
    }
   ],
   "source": [
    "import numpy as np\n",
    "def funct(a,b):\n",
    "    d=a**b\n",
    "    return d\n",
    "d=np.empty([6,12,24])\n",
    "a=np.linspace(0,1,24).reshape(-1,1)\n",
    "b=np.linspace(0,1,12).reshape(1,-1)\n",
    "c=np.linspace(0,1,6).reshape(-1,1)\n",
    "d=funct(a,b)\n",
    "e=d[:,np.newaxis]-c\n",
    "np.shape(e)\n",
    "#np.shape(f)"
   ]
  },
  {
   "cell_type": "code",
   "execution_count": 49,
   "metadata": {},
   "outputs": [],
   "source": [
    "approx=np.mean(e)"
   ]
  },
  {
   "cell_type": "code",
   "execution_count": 50,
   "metadata": {},
   "outputs": [
    {
     "data": {
      "text/plain": [
       "0.022287845557911405"
      ]
     },
     "execution_count": 50,
     "metadata": {},
     "output_type": "execute_result"
    }
   ],
   "source": [
    "ans=np.log(2)-0.5\n",
    "rel_err=(ans-approx)/ans\n",
    "rel_err"
   ]
  }
 ],
 "metadata": {
  "kernelspec": {
   "display_name": "Python 3",
   "language": "python",
   "name": "python3"
  },
  "language_info": {
   "codemirror_mode": {
    "name": "ipython",
    "version": 3
   },
   "file_extension": ".py",
   "mimetype": "text/x-python",
   "name": "python",
   "nbconvert_exporter": "python",
   "pygments_lexer": "ipython3",
   "version": "3.6.2"
  }
 },
 "nbformat": 4,
 "nbformat_minor": 2
}
